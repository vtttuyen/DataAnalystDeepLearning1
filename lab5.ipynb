{
  "nbformat": 4,
  "nbformat_minor": 0,
  "metadata": {
    "colab": {
      "name": "lab5.ipynb",
      "provenance": [],
      "authorship_tag": "ABX9TyMOeRHFG82JDzRqfMo+nEq/",
      "include_colab_link": true
    },
    "kernelspec": {
      "name": "python3",
      "display_name": "Python 3"
    },
    "language_info": {
      "name": "python"
    }
  },
  "cells": [
    {
      "cell_type": "markdown",
      "metadata": {
        "id": "view-in-github",
        "colab_type": "text"
      },
      "source": [
        "<a href=\"https://colab.research.google.com/github/vtttuyen/DataAnalystDeepLearning1/blob/main/lab5.ipynb\" target=\"_parent\"><img src=\"https://colab.research.google.com/assets/colab-badge.svg\" alt=\"Open In Colab\"/></a>"
      ]
    },
    {
      "cell_type": "markdown",
      "metadata": {
        "id": "JxP3nuAe36OF"
      },
      "source": [
        "# Mean - Mode - Median\n",
        "# Mode: là giá trị xuất hiện nhiều nhất trong tập dữ liệu\n",
        "\n",
        " Thí dụ 1:"
      ]
    },
    {
      "cell_type": "code",
      "metadata": {
        "colab": {
          "base_uri": "https://localhost:8080/"
        },
        "id": "fKtWLi4U4Eu0",
        "outputId": "03e350ce-cee8-4ba7-82e0-cc5802c06263"
      },
      "source": [
        "from scipy import stats\n",
        "speed = [99,86,87,88,111,86,103,87,94,78,77,85,86]\n",
        "mode = stats.mode(speed)\n",
        "\n",
        "print(mode)"
      ],
      "execution_count": 12,
      "outputs": [
        {
          "output_type": "stream",
          "name": "stdout",
          "text": [
            "ModeResult(mode=array([86]), count=array([3]))\n"
          ]
        }
      ]
    },
    {
      "cell_type": "markdown",
      "metadata": {
        "id": "iAemOkrb4YP1"
      },
      "source": [
        "Giá trị trung bình là giá trị ở giữa, sau khi bạn đã sắp xếp tất cả các giá trị: 77, 78, 85, 86, 86, 86, 87, 87, 88, 94, 99, 103, 111"
      ]
    },
    {
      "cell_type": "markdown",
      "metadata": {
        "id": "pTljsRh04ar-"
      },
      "source": [
        "Thí dụ 2"
      ]
    },
    {
      "cell_type": "code",
      "metadata": {
        "colab": {
          "base_uri": "https://localhost:8080/"
        },
        "id": "OYAJ7D8v4fZj",
        "outputId": "17dc8275-94be-4f2c-a61e-3fcb392ace0c"
      },
      "source": [
        "import numpy\n",
        "\n",
        "speed = [99,86,87,88,111,86,103,87,94,78,77,85,86]\n",
        "\n",
        "median = numpy.median(speed)\n",
        "\n",
        "print(median)"
      ],
      "execution_count": 13,
      "outputs": [
        {
          "output_type": "stream",
          "name": "stdout",
          "text": [
            "87.0\n"
          ]
        }
      ]
    },
    {
      "cell_type": "markdown",
      "metadata": {
        "id": "BbfhxnQI5M8p"
      },
      "source": [
        "Giá trị trung bình\n",
        "Để tính giá trị trung bình, hãy tìm tổng của tất cả các giá trị và chia tổng cho số giá trị: (99 + 86 + 87 + 88 + 111 + 86 + 103 + 87 + 94 + 78 + 77 + 85 + 86) / 13 = 89,77"
      ]
    },
    {
      "cell_type": "markdown",
      "metadata": {
        "id": "mCbYABnZ5ajL"
      },
      "source": [
        "Thí dụ 3"
      ]
    },
    {
      "cell_type": "code",
      "metadata": {
        "colab": {
          "base_uri": "https://localhost:8080/"
        },
        "id": "CWTkTuek5bPd",
        "outputId": "91a6a61f-a7ff-4575-efbd-5043edd6d3e3"
      },
      "source": [
        "import numpy\n",
        "\n",
        "speed = [99,86,87,88,111,86,103,87,94,78,77,85,86]\n",
        "\n",
        "mean = numpy.mean(speed)\n",
        "\n",
        "print(mean)"
      ],
      "execution_count": 14,
      "outputs": [
        {
          "output_type": "stream",
          "name": "stdout",
          "text": [
            "89.76923076923077\n"
          ]
        }
      ]
    },
    {
      "cell_type": "markdown",
      "metadata": {
        "id": "S-4zw79S5f_X"
      },
      "source": [
        "## Khảo sát hình dạng phân phối của tập dữ \n",
        "Nhận xét:\n",
        "\n",
        "Mean = Median = Mode ==> Tập dữ liệu có hình dạng phân phối chuẩn (symmetrical distribution)\n",
        "Mode > Median > Mean ==> Dạng phân phối theo khuynh hướng Negative (Left-Skewed)\n",
        "Mean > Median > Mode ==> Dạng phân phối theo khuynh hướng Positive (Right-Skewed)"
      ]
    },
    {
      "cell_type": "markdown",
      "metadata": {
        "id": "q7G9V9bH51MM"
      },
      "source": [
        "Thí dụ 4: Dùng đồ thị Histogram, đồ thị boxplot và các độ đo thống kê để khảo sát hình dạng phân phối"
      ]
    },
    {
      "cell_type": "code",
      "metadata": {
        "id": "MdNLmXw35ySB"
      },
      "source": [
        "import pandas as pd\n",
        "dulieuxettuyen = pd.read_csv(\"https://raw.githubusercontent.com/huynhhoc/DataAnalystDeepLearning/main/Data/dulieuxettuyendaihoc.csv\")"
      ],
      "execution_count": 15,
      "outputs": []
    },
    {
      "cell_type": "code",
      "metadata": {
        "id": "GDxfACzx5_GH"
      },
      "source": [
        "import seaborn as sns"
      ],
      "execution_count": 16,
      "outputs": []
    },
    {
      "cell_type": "code",
      "metadata": {
        "colab": {
          "base_uri": "https://localhost:8080/",
          "height": 386
        },
        "id": "CL1iF2ph6AAX",
        "outputId": "cc2f91cb-3e34-4bd1-ee66-554bc59ceb67"
      },
      "source": [
        "sns.displot(dulieuxettuyen, x=\"T1\", kde=True)"
      ],
      "execution_count": 17,
      "outputs": [
        {
          "output_type": "execute_result",
          "data": {
            "text/plain": [
              "<seaborn.axisgrid.FacetGrid at 0x7fcb804de550>"
            ]
          },
          "metadata": {},
          "execution_count": 17
        },
        {
          "output_type": "display_data",
          "data": {
            "image/png": "[encoded data removed]",
            "text/plain": [
              "<Figure size 360x360 with 1 Axes>"
            ]
          },
          "metadata": {
            "needs_background": "light"
          }
        }
      ]
    },
    {
      "cell_type": "code",
      "metadata": {
        "colab": {
          "base_uri": "https://localhost:8080/",
          "height": 296
        },
        "id": "TlJDWZ2q6CPM",
        "outputId": "b235bbe6-def2-4e20-bf31-d0c09dc520d9"
      },
      "source": [
        "sns.boxplot(x='T1', data = dulieuxettuyen)"
      ],
      "execution_count": 18,
      "outputs": [
        {
          "output_type": "execute_result",
          "data": {
            "text/plain": [
              "<matplotlib.axes._subplots.AxesSubplot at 0x7fcb7ff1f0d0>"
            ]
          },
          "metadata": {},
          "execution_count": 18
        },
        {
          "output_type": "display_data",
          "data": {
            "image/png": "[encoded data removed]",
            "text/plain": [
              "<Figure size 432x288 with 1 Axes>"
            ]
          },
          "metadata": {
            "needs_background": "light"
          }
        }
      ]
    },
    {
      "cell_type": "markdown",
      "metadata": {
        "id": "4c69BIMz6G27"
      },
      "source": [
        "Dựa vào histogram ta có thể thấy hình dạng phân phối của T1 có dạng xấp xỉ đối xứng, nhưng đồ thị boxplot ta lại thấy phân phối của T1 hơi lệch trái. Ta dùng thêm các đặc trưng số của T1 để có thêm thông tin"
      ]
    },
    {
      "cell_type": "code",
      "metadata": {
        "id": "zGNlqZoc6HgC"
      },
      "source": [
        "mean = dulieuxettuyen['T1'].mean()\n",
        "mode = dulieuxettuyen['T1'].mode()\n",
        "median = dulieuxettuyen['T1'].median()"
      ],
      "execution_count": 19,
      "outputs": []
    },
    {
      "cell_type": "code",
      "metadata": {
        "colab": {
          "base_uri": "https://localhost:8080/"
        },
        "id": "yjnFli_56LuN",
        "outputId": "4d5bc0cc-efe7-4854-842d-fd802d34ecbe"
      },
      "source": [
        "print ('mean= ', mean)\n",
        "print ('median= ', median)"
      ],
      "execution_count": 20,
      "outputs": [
        {
          "output_type": "stream",
          "name": "stdout",
          "text": [
            "mean=  5.946000000000001\n",
            "median=  5.85\n"
          ]
        }
      ]
    },
    {
      "cell_type": "code",
      "metadata": {
        "colab": {
          "base_uri": "https://localhost:8080/"
        },
        "id": "v_Sen2Ps6OIQ",
        "outputId": "5e732902-fdac-40ca-ba5f-57af4fed8c4a"
      },
      "source": [
        "print ('mode= ', mode)"
      ],
      "execution_count": 21,
      "outputs": [
        {
          "output_type": "stream",
          "name": "stdout",
          "text": [
            "mode=  0    5.2\n",
            "1    5.3\n",
            "2    7.3\n",
            "dtype: float64\n"
          ]
        }
      ]
    },
    {
      "cell_type": "markdown",
      "metadata": {
        "id": "npmlBRTn6QZ0"
      },
      "source": [
        "Giá trị mode chỉ là 5.2; 5.3; 7.3. Biến T1 là biến ngẫu nhiên nhận các giá trị liên tục, nên Mode ở đây được hiểu là khoảng chứa dữ liệu nhiều nhất, cụ thể mode ở đây phải thuộc khoảng từ 5.2 đến 7.3. Cho nên ta vẫn có thể dựa vào Mean, Media để đưa ra kết luận là hình dáng phân phối của biến T1.\n",
        "\n",
        "Ta thấy Mean > Median nên hình dáng phân phối của T1 là lệch phải"
      ]
    },
    {
      "cell_type": "markdown",
      "metadata": {
        "id": "fQENHCJK6b1a"
      },
      "source": [
        "### **Skewness và Kurtosis**\n"
      ]
    },
    {
      "cell_type": "markdown",
      "metadata": {
        "id": "WNpl1HCb698V"
      },
      "source": [
        "Công thức tính skewness (Nguồn: https://docs.scipy.org/doc/scipy/reference/generated/scipy.stats.skew.html)"
      ]
    },
    {
      "cell_type": "code",
      "metadata": {
        "colab": {
          "base_uri": "https://localhost:8080/"
        },
        "id": "lwnM2jDE63dE",
        "outputId": "b772a186-a148-41fc-b966-64104a3c41bb"
      },
      "source": [
        "#Thí dụ:\n",
        "#calculate sample skewness\n",
        "from scipy.stats import skew\n",
        "skew(dulieuxettuyen['T1'], bias=False)"
      ],
      "execution_count": 22,
      "outputs": [
        {
          "output_type": "execute_result",
          "data": {
            "text/plain": [
              "-0.17824317486762223"
            ]
          },
          "metadata": {},
          "execution_count": 22
        }
      ]
    },
    {
      "cell_type": "markdown",
      "metadata": {
        "id": "b09ENMgR7GFk"
      },
      "source": [
        "Công thức tính Kurtosis: (Tham khảo ví dụ tại link: https://towardsdatascience.com/calculate-kurtosis-in-python-with-examples-pyshark-2b960301393)"
      ]
    },
    {
      "cell_type": "code",
      "metadata": {
        "colab": {
          "base_uri": "https://localhost:8080/"
        },
        "id": "qeNNQH4V7LKi",
        "outputId": "8f2585d4-31b4-4e64-819f-ae6222851adc"
      },
      "source": [
        "#Thí dụ:\n",
        "#calculate sample kurtosis\n",
        "from scipy.stats import kurtosis\n",
        "kurtosis(dulieuxettuyen['T1'], bias=False)"
      ],
      "execution_count": 23,
      "outputs": [
        {
          "output_type": "execute_result",
          "data": {
            "text/plain": [
              "-0.48010360836580546"
            ]
          },
          "metadata": {},
          "execution_count": 23
        }
      ]
    },
    {
      "cell_type": "markdown",
      "metadata": {
        "id": "ztU6R5ft7SmJ"
      },
      "source": [
        "Do kurtosis = -0.4801... (Negative Kurtosis) ==> Phân bố có đỉnh thấp hơn và rộng hơn và đuôi mỏng hơ"
      ]
    }
  ]
}