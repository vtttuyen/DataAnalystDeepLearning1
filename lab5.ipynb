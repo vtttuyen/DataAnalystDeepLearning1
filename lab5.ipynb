{
  "nbformat": 4,
  "nbformat_minor": 0,
  "metadata": {
    "colab": {
      "name": "lab5.ipynb",
      "provenance": [],
      "collapsed_sections": [],
      "authorship_tag": "ABX9TyPLYSZOhDHZI0OoqCP++g9V",
      "include_colab_link": true
    },
    "kernelspec": {
      "name": "python3",
      "display_name": "Python 3"
    },
    "language_info": {
      "name": "python"
    }
  },
  "cells": [
    {
      "cell_type": "markdown",
      "metadata": {
        "id": "view-in-github",
        "colab_type": "text"
      },
      "source": [
        "<a href=\"https://colab.research.google.com/github/vtttuyen/DataAnalystDeepLearning1/blob/main/lab5.ipynb\" target=\"_parent\"><img src=\"https://colab.research.google.com/assets/colab-badge.svg\" alt=\"Open In Colab\"/></a>"
      ]
    },
    {
      "cell_type": "markdown",
      "metadata": {
        "id": "JxP3nuAe36OF"
      },
      "source": [
        "# Mean - Mode - Median\n",
        "# Mode: là giá trị xuất hiện nhiều nhất trong tập dữ liệu\n",
        "\n",
        " Thí dụ 1:"
      ]
    },
    {
      "cell_type": "code",
      "metadata": {
        "colab": {
          "base_uri": "https://localhost:8080/"
        },
        "id": "fKtWLi4U4Eu0",
        "outputId": "81995fa6-756d-4070-9444-2ea913913535"
      },
      "source": [
        "from scipy import stats\n",
        "speed = [99,86,87,88,111,86,103,87,94,78,77,85,86]\n",
        "mode = stats.mode(speed)\n",
        "\n",
        "print(mode)"
      ],
      "execution_count": 1,
      "outputs": [
        {
          "output_type": "stream",
          "name": "stdout",
          "text": [
            "ModeResult(mode=array([86]), count=array([3]))\n"
          ]
        }
      ]
    },
    {
      "cell_type": "markdown",
      "metadata": {
        "id": "iAemOkrb4YP1"
      },
      "source": [
        "Giá trị trung bình là giá trị ở giữa, sau khi bạn đã sắp xếp tất cả các giá trị: 77, 78, 85, 86, 86, 86, 87, 87, 88, 94, 99, 103, 111"
      ]
    },
    {
      "cell_type": "markdown",
      "metadata": {
        "id": "pTljsRh04ar-"
      },
      "source": [
        "Thí dụ 2"
      ]
    },
    {
      "cell_type": "code",
      "metadata": {
        "colab": {
          "base_uri": "https://localhost:8080/"
        },
        "id": "OYAJ7D8v4fZj",
        "outputId": "a6634fb1-463b-4efe-fec5-17ff2bd3b59d"
      },
      "source": [
        "import numpy\n",
        "\n",
        "speed = [99,86,87,88,111,86,103,87,94,78,77,85,86]\n",
        "\n",
        "median = numpy.median(speed)\n",
        "\n",
        "print(median)"
      ],
      "execution_count": 2,
      "outputs": [
        {
          "output_type": "stream",
          "name": "stdout",
          "text": [
            "87.0\n"
          ]
        }
      ]
    },
    {
      "cell_type": "markdown",
      "metadata": {
        "id": "BbfhxnQI5M8p"
      },
      "source": [
        "Giá trị trung bình\n",
        "Để tính giá trị trung bình, hãy tìm tổng của tất cả các giá trị và chia tổng cho số giá trị: (99 + 86 + 87 + 88 + 111 + 86 + 103 + 87 + 94 + 78 + 77 + 85 + 86) / 13 = 89,77"
      ]
    },
    {
      "cell_type": "markdown",
      "metadata": {
        "id": "mCbYABnZ5ajL"
      },
      "source": [
        "Thí dụ 3"
      ]
    },
    {
      "cell_type": "code",
      "metadata": {
        "colab": {
          "base_uri": "https://localhost:8080/"
        },
        "id": "CWTkTuek5bPd",
        "outputId": "3c0e0100-64c3-4453-a83b-73499128cb11"
      },
      "source": [
        "import numpy\n",
        "\n",
        "speed = [99,86,87,88,111,86,103,87,94,78,77,85,86]\n",
        "\n",
        "mean = numpy.mean(speed)\n",
        "\n",
        "print(mean)"
      ],
      "execution_count": 3,
      "outputs": [
        {
          "output_type": "stream",
          "name": "stdout",
          "text": [
            "89.76923076923077\n"
          ]
        }
      ]
    },
    {
      "cell_type": "markdown",
      "metadata": {
        "id": "S-4zw79S5f_X"
      },
      "source": [
        "## Khảo sát hình dạng phân phối của tập dữ \n",
        "Nhận xét:\n",
        "\n",
        "Mean = Median = Mode ==> Tập dữ liệu có hình dạng phân phối chuẩn (symmetrical distribution)\n",
        "Mode > Median > Mean ==> Dạng phân phối theo khuynh hướng Negative (Left-Skewed)\n",
        "Mean > Median > Mode ==> Dạng phân phối theo khuynh hướng Positive (Right-Skewed)"
      ]
    },
    {
      "cell_type": "markdown",
      "metadata": {
        "id": "q7G9V9bH51MM"
      },
      "source": [
        "Thí dụ 4: Dùng đồ thị Histogram, đồ thị boxplot và các độ đo thống kê để khảo sát hình dạng phân phối"
      ]
    },
    {
      "cell_type": "code",
      "metadata": {
        "id": "MdNLmXw35ySB"
      },
      "source": [
        "import pandas as pd\n",
        "dulieuxettuyen = pd.read_csv(\"https://raw.githubusercontent.com/huynhhoc/DataAnalystDeepLearning/main/Data/dulieuxettuyendaihoc.csv\")"
      ],
      "execution_count": 4,
      "outputs": []
    },
    {
      "cell_type": "code",
      "metadata": {
        "id": "GDxfACzx5_GH"
      },
      "source": [
        "import seaborn as sns"
      ],
      "execution_count": 5,
      "outputs": []
    },
    {
      "cell_type": "code",
      "metadata": {
        "colab": {
          "base_uri": "https://localhost:8080/",
          "height": 386
        },
        "id": "CL1iF2ph6AAX",
        "outputId": "cb2478f4-1665-405f-f78d-f46a17465622"
      },
      "source": [
        "sns.displot(dulieuxettuyen, x=\"T1\", kde=True)"
      ],
      "execution_count": 6,
      "outputs": [
        {
          "output_type": "execute_result",
          "data": {
            "text/plain": [
              "<seaborn.axisgrid.FacetGrid at 0x7fe03ac4ae50>"
            ]
          },
          "metadata": {},
          "execution_count": 6
        },
        {
          "output_type": "display_data",
          "data": {
            "image/png": "[encoded data removed]",
            "text/plain": [
              "<Figure size 360x360 with 1 Axes>"
            ]
          },
          "metadata": {
            "needs_background": "light"
          }
        }
      ]
    },
    {
      "cell_type": "code",
      "metadata": {
        "colab": {
          "base_uri": "https://localhost:8080/",
          "height": 296
        },
        "id": "TlJDWZ2q6CPM",
        "outputId": "aac8b7e4-cbeb-4b4b-b7d7-4d18b061920c"
      },
      "source": [
        "sns.boxplot(x='T1', data = dulieuxettuyen)"
      ],
      "execution_count": 7,
      "outputs": [
        {
          "output_type": "execute_result",
          "data": {
            "text/plain": [
              "<matplotlib.axes._subplots.AxesSubplot at 0x7fe02f81a050>"
            ]
          },
          "metadata": {},
          "execution_count": 7
        },
        {
          "output_type": "display_data",
          "data": {
            "image/png": "[encoded data removed]",
            "text/plain": [
              "<Figure size 432x288 with 1 Axes>"
            ]
          },
          "metadata": {
            "needs_background": "light"
          }
        }
      ]
    },
    {
      "cell_type": "markdown",
      "metadata": {
        "id": "4c69BIMz6G27"
      },
      "source": [
        "Dựa vào histogram ta có thể thấy hình dạng phân phối của T1 có dạng xấp xỉ đối xứng, nhưng đồ thị boxplot ta lại thấy phân phối của T1 hơi lệch trái. Ta dùng thêm các đặc trưng số của T1 để có thêm thông tin"
      ]
    },
    {
      "cell_type": "code",
      "metadata": {
        "id": "zGNlqZoc6HgC"
      },
      "source": [
        "mean = dulieuxettuyen['T1'].mean()\n",
        "mode = dulieuxettuyen['T1'].mode()\n",
        "median = dulieuxettuyen['T1'].median()"
      ],
      "execution_count": 8,
      "outputs": []
    },
    {
      "cell_type": "code",
      "metadata": {
        "colab": {
          "base_uri": "https://localhost:8080/"
        },
        "id": "yjnFli_56LuN",
        "outputId": "4fee25e0-d7d8-41a4-f2d9-6df6f7dd0a55"
      },
      "source": [
        "print ('mean= ', mean)\n",
        "print ('median= ', median)"
      ],
      "execution_count": 9,
      "outputs": [
        {
          "output_type": "stream",
          "name": "stdout",
          "text": [
            "mean=  5.946000000000001\n",
            "median=  5.85\n"
          ]
        }
      ]
    },
    {
      "cell_type": "code",
      "metadata": {
        "colab": {
          "base_uri": "https://localhost:8080/"
        },
        "id": "v_Sen2Ps6OIQ",
        "outputId": "86686745-d3e3-41f3-d5c0-72589763ff18"
      },
      "source": [
        "print ('mode= ', mode)"
      ],
      "execution_count": 10,
      "outputs": [
        {
          "output_type": "stream",
          "name": "stdout",
          "text": [
            "mode=  0    5.2\n",
            "1    5.3\n",
            "2    7.3\n",
            "dtype: float64\n"
          ]
        }
      ]
    },
    {
      "cell_type": "markdown",
      "metadata": {
        "id": "npmlBRTn6QZ0"
      },
      "source": [
        "Giá trị mode chỉ là 5.2; 5.3; 7.3. Biến T1 là biến ngẫu nhiên nhận các giá trị liên tục, nên Mode ở đây được hiểu là khoảng chứa dữ liệu nhiều nhất, cụ thể mode ở đây phải thuộc khoảng từ 5.2 đến 7.3. Cho nên ta vẫn có thể dựa vào Mean, Media để đưa ra kết luận là hình dáng phân phối của biến T1.\n",
        "\n",
        "Ta thấy Mean > Median nên hình dáng phân phối của T1 là lệch phải"
      ]
    },
    {
      "cell_type": "markdown",
      "metadata": {
        "id": "fQENHCJK6b1a"
      },
      "source": [
        "### **Skewness và Kurtosis**\n"
      ]
    },
    {
      "cell_type": "markdown",
      "metadata": {
        "id": "WNpl1HCb698V"
      },
      "source": [
        "Công thức tính skewness (Nguồn: https://docs.scipy.org/doc/scipy/reference/generated/scipy.stats.skew.html)"
      ]
    },
    {
      "cell_type": "code",
      "metadata": {
        "colab": {
          "base_uri": "https://localhost:8080/"
        },
        "id": "lwnM2jDE63dE",
        "outputId": "6d98a103-b9e8-490a-c8aa-7f90a67485c4"
      },
      "source": [
        "#Thí dụ:\n",
        "#calculate sample skewness\n",
        "from scipy.stats import skew\n",
        "skew(dulieuxettuyen['T1'], bias=False)"
      ],
      "execution_count": 11,
      "outputs": [
        {
          "output_type": "execute_result",
          "data": {
            "text/plain": [
              "-0.17824317486762223"
            ]
          },
          "metadata": {},
          "execution_count": 11
        }
      ]
    },
    {
      "cell_type": "markdown",
      "metadata": {
        "id": "b09ENMgR7GFk"
      },
      "source": [
        "Công thức tính Kurtosis: (Tham khảo ví dụ tại link: https://towardsdatascience.com/calculate-kurtosis-in-python-with-examples-pyshark-2b960301393)"
      ]
    },
    {
      "cell_type": "code",
      "metadata": {
        "colab": {
          "base_uri": "https://localhost:8080/"
        },
        "id": "qeNNQH4V7LKi",
        "outputId": "b4b872a1-4955-4e28-f97f-433e694f06e0"
      },
      "source": [
        "#Thí dụ:\n",
        "#calculate sample kurtosis\n",
        "from scipy.stats import kurtosis\n",
        "kurtosis(dulieuxettuyen['T1'], bias=False)"
      ],
      "execution_count": 12,
      "outputs": [
        {
          "output_type": "execute_result",
          "data": {
            "text/plain": [
              "-0.48010360836580546"
            ]
          },
          "metadata": {},
          "execution_count": 12
        }
      ]
    },
    {
      "cell_type": "markdown",
      "metadata": {
        "id": "ztU6R5ft7SmJ"
      },
      "source": [
        "Do kurtosis = -0.4801... (Negative Kurtosis) ==> Phân bố có đỉnh thấp hơn và rộng hơn và đuôi mỏng hơ"
      ]
    },
    {
      "cell_type": "markdown",
      "metadata": {
        "id": "rfL2hNFKG9py"
      },
      "source": [
        "## **Bài Tập Về Nhà**\n",
        "Trong lab này, ta phân tích các dữ liệu quan sát được để trả lời câu hỏi: \"Việc bà mẹ hút thuốc khi mang thai có ảnh hưởng đến cân nặng của trẻ sơ sinh hay không?\"\n",
        "\n",
        "Để trả lời câu hỏi trên, cần thực hiện so sánh cân nặng của trẻ sơ sinh trong hai trường hợp: trường hợp bà mẹ hút thuốc khi mang thai và trường hợp bà mẹ không hút thuốc khi mang thai. Sự khác biệt đó có ý nghĩa hay không?\n",
        "\n",
        "Để so sánh cân nặng của trẻ sơ sinh trong 2 trường hợp, có thể dựa vào thống kê mô tả: thống kê mô tả bằng số (numerical summaries), thống kê mô tả bằng hình (graphical): histogram, boxplot, quantile plot. Do đó, các nội dung chi tiết cần thực hiện:\n",
        "\n",
        "1) Tính các đại lượng thống kê mô tả từ đó rút ra nhận xét về từng tập dữ liệu (cân nặng của trẻ trong trường hợp bà mẹ hút thuốc và cân nặng của trẻ trong trường hợp bà mẹ không hút thuốc).\n",
        "\n",
        "Cụ thể, ta sẽ phân tích sự khác biệt giữa hai tập dữ liệu: cân nặng của trẻ trong trường hợp bà mẹ hút thuốc và cân nặng của trẻ trong trường hợp bà mẹ không hút thuốc dựa vào các đại lượng thống kê mô tả.\n",
        "\n",
        "2) Biểu diễn dữ liệu dưới các dạng đồ thị từ đó rút ra nhận xét về từng tập dữ liệu (trường hợp bà mẹ hút thuốc và trường hợp bà mẹ không hút thuốc).\n",
        "\n",
        "Cụ thể, ta sẽ sử dụng các dạng đồ thị: histogram, boxplot, quantile qua đó phân tích sự khác biệt giữa hai tập dữ liệu: cân nặng của trẻ trong trường hợp bà mẹ hút thuốc và cân nặng của trẻ trong trường hợp bà mẹ không hút thuốc dựa vào các đồ thị."
      ]
    },
    {
      "cell_type": "markdown",
      "metadata": {
        "id": "_x8Lvu81KG_t"
      },
      "source": [
        "### 1.Tính các đại lượng thống kê mô tả từ đó rút ra nhận xét về từng tập dữ liệu"
      ]
    },
    {
      "cell_type": "code",
      "metadata": {
        "id": "wq8_FdeTHLcw"
      },
      "source": [
        "import pandas as pd\n",
        "df = pd.read_csv(\"https://raw.githubusercontent.com/huynhhoc/DataAnalystDeepLearning/main/Data/babies.txt\",sep=\"\\s+\")"
      ],
      "execution_count": 13,
      "outputs": []
    },
    {
      "cell_type": "code",
      "metadata": {
        "colab": {
          "base_uri": "https://localhost:8080/",
          "height": 414
        },
        "id": "aw3q_ZQiHSAY",
        "outputId": "bb9c37c4-d90e-4dc8-ad8d-7b26b39f5c02"
      },
      "source": [
        "df"
      ],
      "execution_count": 14,
      "outputs": [
        {
          "output_type": "execute_result",
          "data": {
            "text/html": [
              "<div>\n",
              "<style scoped>\n",
              "    .dataframe tbody tr th:only-of-type {\n",
              "        vertical-align: middle;\n",
              "    }\n",
              "\n",
              "    .dataframe tbody tr th {\n",
              "        vertical-align: top;\n",
              "    }\n",
              "\n",
              "    .dataframe thead th {\n",
              "        text-align: right;\n",
              "    }\n",
              "</style>\n",
              "<table border=\"1\" class=\"dataframe\">\n",
              "  <thead>\n",
              "    <tr style=\"text-align: right;\">\n",
              "      <th></th>\n",
              "      <th>bwt</th>\n",
              "      <th>smoke</th>\n",
              "    </tr>\n",
              "  </thead>\n",
              "  <tbody>\n",
              "    <tr>\n",
              "      <th>0</th>\n",
              "      <td>120</td>\n",
              "      <td>0</td>\n",
              "    </tr>\n",
              "    <tr>\n",
              "      <th>1</th>\n",
              "      <td>113</td>\n",
              "      <td>0</td>\n",
              "    </tr>\n",
              "    <tr>\n",
              "      <th>2</th>\n",
              "      <td>128</td>\n",
              "      <td>1</td>\n",
              "    </tr>\n",
              "    <tr>\n",
              "      <th>3</th>\n",
              "      <td>123</td>\n",
              "      <td>0</td>\n",
              "    </tr>\n",
              "    <tr>\n",
              "      <th>4</th>\n",
              "      <td>108</td>\n",
              "      <td>1</td>\n",
              "    </tr>\n",
              "    <tr>\n",
              "      <th>...</th>\n",
              "      <td>...</td>\n",
              "      <td>...</td>\n",
              "    </tr>\n",
              "    <tr>\n",
              "      <th>1231</th>\n",
              "      <td>113</td>\n",
              "      <td>0</td>\n",
              "    </tr>\n",
              "    <tr>\n",
              "      <th>1232</th>\n",
              "      <td>128</td>\n",
              "      <td>0</td>\n",
              "    </tr>\n",
              "    <tr>\n",
              "      <th>1233</th>\n",
              "      <td>130</td>\n",
              "      <td>1</td>\n",
              "    </tr>\n",
              "    <tr>\n",
              "      <th>1234</th>\n",
              "      <td>125</td>\n",
              "      <td>0</td>\n",
              "    </tr>\n",
              "    <tr>\n",
              "      <th>1235</th>\n",
              "      <td>117</td>\n",
              "      <td>0</td>\n",
              "    </tr>\n",
              "  </tbody>\n",
              "</table>\n",
              "<p>1236 rows × 2 columns</p>\n",
              "</div>"
            ],
            "text/plain": [
              "      bwt  smoke\n",
              "0     120      0\n",
              "1     113      0\n",
              "2     128      1\n",
              "3     123      0\n",
              "4     108      1\n",
              "...   ...    ...\n",
              "1231  113      0\n",
              "1232  128      0\n",
              "1233  130      1\n",
              "1234  125      0\n",
              "1235  117      0\n",
              "\n",
              "[1236 rows x 2 columns]"
            ]
          },
          "metadata": {},
          "execution_count": 14
        }
      ]
    },
    {
      "cell_type": "code",
      "metadata": {
        "id": "gvx4q4gjHZoq"
      },
      "source": [
        "df_cohutthuoc = df[df['smoke'] == 1]\n",
        "df_khonghutthuoc = df[df['smoke'] == 0]"
      ],
      "execution_count": 15,
      "outputs": []
    },
    {
      "cell_type": "code",
      "metadata": {
        "id": "Nls72--MHfxP"
      },
      "source": [
        "from scipy.stats import kurtosis\n",
        "from scipy.stats import skew\n",
        "import numpy as np\n",
        "d = {'TH1: Bà mẹ hút thuốc' : pd.Series([df_cohutthuoc['bwt'].count(),df_cohutthuoc['bwt'].min(),\n",
        "                        df_cohutthuoc['bwt'].max(),df_cohutthuoc['bwt'].mean(),\n",
        "                        df_cohutthuoc['bwt'].std(skipna=True),df_cohutthuoc['bwt'].var(skipna=True),\n",
        "                        df_cohutthuoc['bwt'].median(),df_cohutthuoc['bwt'].quantile(.0),\n",
        "                        df_cohutthuoc['bwt'].quantile(.25),df_cohutthuoc['bwt'].quantile(.5),\n",
        "                        df_cohutthuoc['bwt'].quantile(.75),df_cohutthuoc['bwt'].quantile(1),\n",
        "                        df_cohutthuoc['bwt'].quantile(.75)-df_cohutthuoc['bwt'].quantile(.25),\n",
        "                        df_cohutthuoc['bwt'].kurtosis()+3,df_cohutthuoc['bwt'].skew()],\n",
        "                       index=['Số lượng','Min','Max','Mean','Sd','Var','Median','Quantile 0%',\n",
        "                              'Quantile 25%','Quantile 50%','Quantile 75%','Quantile 100%','IQR',\n",
        "                              'Kurtosis','Skewness']),\n",
        "      'TH2: Bà mẹ không hút thuốc' : pd.Series([df_khonghutthuoc['bwt'].count(),df_khonghutthuoc['bwt'].min(),\n",
        "                        df_khonghutthuoc['bwt'].max(),df_khonghutthuoc['bwt'].mean(),\n",
        "                        df_khonghutthuoc['bwt'].std(skipna=True),df_khonghutthuoc['bwt'].var(skipna=True),\n",
        "                        df_khonghutthuoc['bwt'].median(),df_khonghutthuoc['bwt'].quantile(.0),\n",
        "                        df_khonghutthuoc['bwt'].quantile(.25),df_khonghutthuoc['bwt'].quantile(.5),\n",
        "                        df_khonghutthuoc['bwt'].quantile(.75),df_khonghutthuoc['bwt'].quantile(1),\n",
        "                        df_khonghutthuoc['bwt'].quantile(.75)-df_khonghutthuoc['bwt'].quantile(.25),\n",
        "                        df_khonghutthuoc['bwt'].kurtosis()+3,df_khonghutthuoc['bwt'].skew()],\n",
        "                       index=['Số lượng','Min','Max','Mean','Sd','Var','Median','Quantile 0%',\n",
        "                              'Quantile 25%','Quantile 50%','Quantile 75%','Quantile 100%','IQR',\n",
        "                              'Kurtosis','Skewness'])\n",
        "     }"
      ],
      "execution_count": 16,
      "outputs": []
    },
    {
      "cell_type": "code",
      "metadata": {
        "colab": {
          "base_uri": "https://localhost:8080/",
          "height": 508
        },
        "id": "iex-7xM-HiJA",
        "outputId": "35fdedb0-8bbe-42d2-d4e7-8fc2093e1116"
      },
      "source": [
        "data = pd.DataFrame(d)\n",
        "data"
      ],
      "execution_count": 17,
      "outputs": [
        {
          "output_type": "execute_result",
          "data": {
            "text/html": [
              "<div>\n",
              "<style scoped>\n",
              "    .dataframe tbody tr th:only-of-type {\n",
              "        vertical-align: middle;\n",
              "    }\n",
              "\n",
              "    .dataframe tbody tr th {\n",
              "        vertical-align: top;\n",
              "    }\n",
              "\n",
              "    .dataframe thead th {\n",
              "        text-align: right;\n",
              "    }\n",
              "</style>\n",
              "<table border=\"1\" class=\"dataframe\">\n",
              "  <thead>\n",
              "    <tr style=\"text-align: right;\">\n",
              "      <th></th>\n",
              "      <th>TH1: Bà mẹ hút thuốc</th>\n",
              "      <th>TH2: Bà mẹ không hút thuốc</th>\n",
              "    </tr>\n",
              "  </thead>\n",
              "  <tbody>\n",
              "    <tr>\n",
              "      <th>Số lượng</th>\n",
              "      <td>484.000000</td>\n",
              "      <td>742.000000</td>\n",
              "    </tr>\n",
              "    <tr>\n",
              "      <th>Min</th>\n",
              "      <td>58.000000</td>\n",
              "      <td>55.000000</td>\n",
              "    </tr>\n",
              "    <tr>\n",
              "      <th>Max</th>\n",
              "      <td>163.000000</td>\n",
              "      <td>176.000000</td>\n",
              "    </tr>\n",
              "    <tr>\n",
              "      <th>Mean</th>\n",
              "      <td>114.109504</td>\n",
              "      <td>123.047170</td>\n",
              "    </tr>\n",
              "    <tr>\n",
              "      <th>Sd</th>\n",
              "      <td>18.098946</td>\n",
              "      <td>17.398689</td>\n",
              "    </tr>\n",
              "    <tr>\n",
              "      <th>Var</th>\n",
              "      <td>327.571835</td>\n",
              "      <td>302.714371</td>\n",
              "    </tr>\n",
              "    <tr>\n",
              "      <th>Median</th>\n",
              "      <td>115.000000</td>\n",
              "      <td>123.000000</td>\n",
              "    </tr>\n",
              "    <tr>\n",
              "      <th>Quantile 0%</th>\n",
              "      <td>58.000000</td>\n",
              "      <td>55.000000</td>\n",
              "    </tr>\n",
              "    <tr>\n",
              "      <th>Quantile 25%</th>\n",
              "      <td>102.000000</td>\n",
              "      <td>113.000000</td>\n",
              "    </tr>\n",
              "    <tr>\n",
              "      <th>Quantile 50%</th>\n",
              "      <td>115.000000</td>\n",
              "      <td>123.000000</td>\n",
              "    </tr>\n",
              "    <tr>\n",
              "      <th>Quantile 75%</th>\n",
              "      <td>126.000000</td>\n",
              "      <td>134.000000</td>\n",
              "    </tr>\n",
              "    <tr>\n",
              "      <th>Quantile 100%</th>\n",
              "      <td>163.000000</td>\n",
              "      <td>176.000000</td>\n",
              "    </tr>\n",
              "    <tr>\n",
              "      <th>IQR</th>\n",
              "      <td>24.000000</td>\n",
              "      <td>21.000000</td>\n",
              "    </tr>\n",
              "    <tr>\n",
              "      <th>Kurtosis</th>\n",
              "      <td>3.000408</td>\n",
              "      <td>4.052213</td>\n",
              "    </tr>\n",
              "    <tr>\n",
              "      <th>Skewness</th>\n",
              "      <td>-0.033700</td>\n",
              "      <td>-0.187363</td>\n",
              "    </tr>\n",
              "  </tbody>\n",
              "</table>\n",
              "</div>"
            ],
            "text/plain": [
              "               TH1: Bà mẹ hút thuốc  TH2: Bà mẹ không hút thuốc\n",
              "Số lượng                 484.000000                  742.000000\n",
              "Min                       58.000000                   55.000000\n",
              "Max                      163.000000                  176.000000\n",
              "Mean                     114.109504                  123.047170\n",
              "Sd                        18.098946                   17.398689\n",
              "Var                      327.571835                  302.714371\n",
              "Median                   115.000000                  123.000000\n",
              "Quantile 0%               58.000000                   55.000000\n",
              "Quantile 25%             102.000000                  113.000000\n",
              "Quantile 50%             115.000000                  123.000000\n",
              "Quantile 75%             126.000000                  134.000000\n",
              "Quantile 100%            163.000000                  176.000000\n",
              "IQR                       24.000000                   21.000000\n",
              "Kurtosis                   3.000408                    4.052213\n",
              "Skewness                  -0.033700                   -0.187363"
            ]
          },
          "metadata": {},
          "execution_count": 17
        }
      ]
    },
    {
      "cell_type": "markdown",
      "metadata": {
        "id": "ZSimRnItIVqK"
      },
      "source": [
        "Xét tập dữ liệu ứng với trường hợp bà mẹ có hút thuốc\n",
        "Vị trí tập trung của dữ liệu: khoảng giá trị: 114-115\n",
        "\n",
        "Tính biến động của dữ liệu:\n",
        "\n",
        "Phương sai (variance): var= 327.571835\n",
        "Độ lệch chuẩn (standard deviation): sd= 18.098946\n",
        "Khoảng giá trị: min=58, max=163 -> range=105\n",
        "Khoảng cách giữa 2 phần tư vị: IQR=Q3-Q1=126-102=24\n",
        "Nhận xét: Như vậy dữ liệu phân bố gần nhau.\n",
        "\n",
        "Hình dạng phân bố của dữ liệu:\n",
        "\n",
        "Độ lệch: Skewness=-0.033700\n",
        "Độ bè nhọn của đỉnh dữ liệu: Kurtosis=3.000408\n",
        "Nhận xét: Như vậy dữ liệu hơi lệch về phía trái, và đỉnh nhọn, hai bên giảm với tốc độ vừa phải.\n",
        "\n",
        "Xét tập dữ liệu ứng với trường hợp bà mẹ không hút thuốc\n",
        "Vị trí tập trung của dữ liệu: giá trị: 123\n",
        "\n",
        "Tính biến động của dữ liệu:\n",
        "\n",
        "Phương sai (variance): var= 302.714371\n",
        "Độ lệch chuẩn (standard deviation): sd= 17.398689\n",
        "Khoảng giá trị: min=55, max=176 -> range=121\n",
        "Khoảng cách giữa 2 phần tư vị: IQR=Q3-Q1=134-113=21\n",
        "Nhận xét: Như vậy dữ liệu phân bố gần nhau.\n",
        "\n",
        "Hình dạng phân bố của dữ liệu:\n",
        "\n",
        "Độ lệch: Skewness=-0.187363\n",
        "Độ bè nhọn của đỉnh dữ liệu: Kurtosis=4.052213\n",
        "Nhận xét: Như vậy dữ liệu hơi lệch về phía trái, và đỉnh nhọn, hai bên giảm với tốc độ vừa phải."
      ]
    },
    {
      "cell_type": "markdown",
      "metadata": {
        "id": "lU26h-nXIwWp"
      },
      "source": [
        "# So sánh "
      ]
    },
    {
      "cell_type": "code",
      "metadata": {
        "id": "-3IB8zcfIztL"
      },
      "source": [
        "data_1 = pd.DataFrame({\n",
        "    'TH1: Bà mẹ hút thuốc' : pd.Series([df_cohutthuoc['bwt'].std(skipna=True),df_cohutthuoc['bwt'].var(skipna=True),\n",
        "                                        df_cohutthuoc['bwt'].max()-df_cohutthuoc['bwt'].min(),\n",
        "                                        df_cohutthuoc['bwt'].quantile(.75)-df_cohutthuoc['bwt'].quantile(.25)],\n",
        "                                       index=['Sd','Var','Range','IQR']),\n",
        "    'TH2: Bà mẹ không hút thuốc' : pd.Series([df_khonghutthuoc['bwt'].std(skipna=True),df_khonghutthuoc['bwt'].var(skipna=True),\n",
        "                                        df_khonghutthuoc['bwt'].max()-df_khonghutthuoc['bwt'].min(),\n",
        "                                        df_khonghutthuoc['bwt'].quantile(.75)-df_khonghutthuoc['bwt'].quantile(.25)],\n",
        "                                       index=['Sd','Var','Range','IQR'])\n",
        "})\n",
        "data_1['Chênh lệch (TH2-TH1)'] = data_1['TH2: Bà mẹ không hút thuốc']-data_1['TH1: Bà mẹ hút thuốc']"
      ],
      "execution_count": 18,
      "outputs": []
    },
    {
      "cell_type": "code",
      "metadata": {
        "colab": {
          "base_uri": "https://localhost:8080/",
          "height": 171
        },
        "id": "fwHG6GBcI2Yo",
        "outputId": "0cda7220-a5ec-46b4-b77e-dfa48feb60da"
      },
      "source": [
        "data_1"
      ],
      "execution_count": 19,
      "outputs": [
        {
          "output_type": "execute_result",
          "data": {
            "text/html": [
              "<div>\n",
              "<style scoped>\n",
              "    .dataframe tbody tr th:only-of-type {\n",
              "        vertical-align: middle;\n",
              "    }\n",
              "\n",
              "    .dataframe tbody tr th {\n",
              "        vertical-align: top;\n",
              "    }\n",
              "\n",
              "    .dataframe thead th {\n",
              "        text-align: right;\n",
              "    }\n",
              "</style>\n",
              "<table border=\"1\" class=\"dataframe\">\n",
              "  <thead>\n",
              "    <tr style=\"text-align: right;\">\n",
              "      <th></th>\n",
              "      <th>TH1: Bà mẹ hút thuốc</th>\n",
              "      <th>TH2: Bà mẹ không hút thuốc</th>\n",
              "      <th>Chênh lệch (TH2-TH1)</th>\n",
              "    </tr>\n",
              "  </thead>\n",
              "  <tbody>\n",
              "    <tr>\n",
              "      <th>Sd</th>\n",
              "      <td>18.098946</td>\n",
              "      <td>17.398689</td>\n",
              "      <td>-0.700257</td>\n",
              "    </tr>\n",
              "    <tr>\n",
              "      <th>Var</th>\n",
              "      <td>327.571835</td>\n",
              "      <td>302.714371</td>\n",
              "      <td>-24.857464</td>\n",
              "    </tr>\n",
              "    <tr>\n",
              "      <th>Range</th>\n",
              "      <td>105.000000</td>\n",
              "      <td>121.000000</td>\n",
              "      <td>16.000000</td>\n",
              "    </tr>\n",
              "    <tr>\n",
              "      <th>IQR</th>\n",
              "      <td>24.000000</td>\n",
              "      <td>21.000000</td>\n",
              "      <td>-3.000000</td>\n",
              "    </tr>\n",
              "  </tbody>\n",
              "</table>\n",
              "</div>"
            ],
            "text/plain": [
              "       TH1: Bà mẹ hút thuốc  TH2: Bà mẹ không hút thuốc  Chênh lệch (TH2-TH1)\n",
              "Sd                18.098946                   17.398689             -0.700257\n",
              "Var              327.571835                  302.714371            -24.857464\n",
              "Range            105.000000                  121.000000             16.000000\n",
              "IQR               24.000000                   21.000000             -3.000000"
            ]
          },
          "metadata": {},
          "execution_count": 19
        }
      ]
    },
    {
      "cell_type": "markdown",
      "metadata": {
        "id": "j7M4pTfZJUTr"
      },
      "source": [
        "sự biến động không có nhiều sự khác biệt"
      ]
    },
    {
      "cell_type": "code",
      "metadata": {
        "id": "UoqVYRjsJe22"
      },
      "source": [
        "data_2 = pd.DataFrame({\n",
        "    'TH1: Bà mẹ hút thuốc' : pd.Series([df_cohutthuoc['bwt'].skew(),df_cohutthuoc['bwt'].kurtosis()+3],\n",
        "                                       index=['Skewness','Kurtosis']),\n",
        "    'TH2: Bà mẹ không hút thuốc' : pd.Series([df_khonghutthuoc['bwt'].skew(),df_khonghutthuoc['bwt'].kurtosis()+3],\n",
        "                                       index=['Skewness','Kurtosis'])\n",
        "})\n",
        "data_2['Chênh lệch (TH2-TH1)'] = data_2['TH2: Bà mẹ không hút thuốc']-data_2['TH1: Bà mẹ hút thuốc']"
      ],
      "execution_count": 21,
      "outputs": []
    },
    {
      "cell_type": "code",
      "metadata": {
        "colab": {
          "base_uri": "https://localhost:8080/",
          "height": 110
        },
        "id": "hW0kvCY0JtC9",
        "outputId": "75703701-9f00-4969-808a-cb6e42a0f68f"
      },
      "source": [
        "data_2"
      ],
      "execution_count": 22,
      "outputs": [
        {
          "output_type": "execute_result",
          "data": {
            "text/html": [
              "<div>\n",
              "<style scoped>\n",
              "    .dataframe tbody tr th:only-of-type {\n",
              "        vertical-align: middle;\n",
              "    }\n",
              "\n",
              "    .dataframe tbody tr th {\n",
              "        vertical-align: top;\n",
              "    }\n",
              "\n",
              "    .dataframe thead th {\n",
              "        text-align: right;\n",
              "    }\n",
              "</style>\n",
              "<table border=\"1\" class=\"dataframe\">\n",
              "  <thead>\n",
              "    <tr style=\"text-align: right;\">\n",
              "      <th></th>\n",
              "      <th>TH1: Bà mẹ hút thuốc</th>\n",
              "      <th>TH2: Bà mẹ không hút thuốc</th>\n",
              "      <th>Chênh lệch (TH2-TH1)</th>\n",
              "    </tr>\n",
              "  </thead>\n",
              "  <tbody>\n",
              "    <tr>\n",
              "      <th>Skewness</th>\n",
              "      <td>-0.033700</td>\n",
              "      <td>-0.187363</td>\n",
              "      <td>-0.153664</td>\n",
              "    </tr>\n",
              "    <tr>\n",
              "      <th>Kurtosis</th>\n",
              "      <td>3.000408</td>\n",
              "      <td>4.052213</td>\n",
              "      <td>1.051805</td>\n",
              "    </tr>\n",
              "  </tbody>\n",
              "</table>\n",
              "</div>"
            ],
            "text/plain": [
              "          TH1: Bà mẹ hút thuốc  ...  Chênh lệch (TH2-TH1)\n",
              "Skewness             -0.033700  ...             -0.153664\n",
              "Kurtosis              3.000408  ...              1.051805\n",
              "\n",
              "[2 rows x 3 columns]"
            ]
          },
          "metadata": {},
          "execution_count": 22
        }
      ]
    },
    {
      "cell_type": "markdown",
      "metadata": {
        "id": "RV30LSpbJzGW"
      },
      "source": [
        "bà mẹ hút thuốc có phân bố dữ liệu nhọn hơn và đối xứng hơn"
      ]
    },
    {
      "cell_type": "markdown",
      "metadata": {
        "id": "sPbp7VBQKOuh"
      },
      "source": [
        "## 2. Biểu diễn dữ liệu dưới các dạng đồ thị từ đó rút ra nhận xét về từng tập dữ liệu "
      ]
    },
    {
      "cell_type": "markdown",
      "metadata": {
        "id": "Wb003uO9Ka79"
      },
      "source": [
        "cân nặng của trẻ ở bà mẹ hút thuốc"
      ]
    },
    {
      "cell_type": "code",
      "metadata": {
        "colab": {
          "base_uri": "https://localhost:8080/",
          "height": 296
        },
        "id": "B3-UG_s2Kh3z",
        "outputId": "2d50480b-f6bb-401a-f2da-909e8cfe5c55"
      },
      "source": [
        "import seaborn as sns\n",
        "import matplotlib.pyplot as plt\n",
        "sns.histplot(data = df_cohutthuoc,x = 'bwt',color = 'navy',kde = True, bins=12)"
      ],
      "execution_count": 23,
      "outputs": [
        {
          "output_type": "execute_result",
          "data": {
            "text/plain": [
              "<matplotlib.axes._subplots.AxesSubplot at 0x7fe02f2fee90>"
            ]
          },
          "metadata": {},
          "execution_count": 23
        },
        {
          "output_type": "display_data",
          "data": {
            "image/png": "[encoded data removed]",
            "text/plain": [
              "<Figure size 432x288 with 1 Axes>"
            ]
          },
          "metadata": {
            "needs_background": "light"
          }
        }
      ]
    },
    {
      "cell_type": "markdown",
      "metadata": {
        "id": "r1uIstJmKqz8"
      },
      "source": [
        "vị trí tập trung dữ liệu khoảng :115\n",
        "\n",
        "Tính biến động của dữ liệu: từ 55 đến 165\n",
        "\n",
        "Tính đối xứng của phân bố dữ liệu: gần đối xứng\n",
        "\n",
        "không có giá trị ngoại lệ đáng kể\n"
      ]
    },
    {
      "cell_type": "markdown",
      "metadata": {
        "id": "ZU0i7G1PLZQd"
      },
      "source": [
        "cân nặng của trẻ ở bà mẹ không hút thuốc"
      ]
    },
    {
      "cell_type": "code",
      "metadata": {
        "colab": {
          "base_uri": "https://localhost:8080/",
          "height": 296
        },
        "id": "0EgULvyGLi8N",
        "outputId": "65a49c32-697c-46d9-9ce1-e37b2402b956"
      },
      "source": [
        "sns.histplot(data = df_khonghutthuoc,x = 'bwt',color = 'navy',kde = True, bins=12)"
      ],
      "execution_count": 24,
      "outputs": [
        {
          "output_type": "execute_result",
          "data": {
            "text/plain": [
              "<matplotlib.axes._subplots.AxesSubplot at 0x7fe02f20e090>"
            ]
          },
          "metadata": {},
          "execution_count": 24
        },
        {
          "output_type": "display_data",
          "data": {
            "image/png": "[encoded data removed]",
            "text/plain": [
              "<Figure size 432x288 with 1 Axes>"
            ]
          },
          "metadata": {
            "needs_background": "light"
          }
        }
      ]
    },
    {
      "cell_type": "markdown",
      "metadata": {
        "id": "qJd2kqKbL2uw"
      },
      "source": [
        "vị trí tập trung dữ liệu khoảng :125\n",
        "\n",
        "Tính biến động của dữ liệu: từ 55 đến 175\n",
        "\n",
        "Tính đối xứng của phân bố dữ liệu: gần đối xứng\n",
        "\n",
        "giá trị ngoại lệ 180"
      ]
    },
    {
      "cell_type": "markdown",
      "metadata": {
        "id": "J6pPFicCMSWN"
      },
      "source": [
        "boxplot bà mẹ có hút thuốc"
      ]
    },
    {
      "cell_type": "code",
      "metadata": {
        "colab": {
          "base_uri": "https://localhost:8080/",
          "height": 378
        },
        "id": "gTZOynafMO6m",
        "outputId": "283e668f-f56e-4522-d5a2-f20197454f96"
      },
      "source": [
        "plt.figure(figsize=(6,6))\n",
        "sns.boxplot(y=df_cohutthuoc['bwt'])"
      ],
      "execution_count": 25,
      "outputs": [
        {
          "output_type": "execute_result",
          "data": {
            "text/plain": [
              "<matplotlib.axes._subplots.AxesSubplot at 0x7fe02f31d410>"
            ]
          },
          "metadata": {},
          "execution_count": 25
        },
        {
          "output_type": "display_data",
          "data": {
            "image/png": "[encoded data removed]",
            "text/plain": [
              "<Figure size 432x432 with 1 Axes>"
            ]
          },
          "metadata": {
            "needs_background": "light"
          }
        }
      ]
    },
    {
      "cell_type": "markdown",
      "metadata": {
        "id": "8_8PHWHVMgTu"
      },
      "source": [
        "bà mẹ không hút thuốc"
      ]
    },
    {
      "cell_type": "code",
      "metadata": {
        "colab": {
          "base_uri": "https://localhost:8080/",
          "height": 378
        },
        "id": "kCCeT1-7Mfap",
        "outputId": "f60d178d-d3ca-45f5-bda9-37dd33aefef3"
      },
      "source": [
        "plt.figure(figsize=(6,6))\n",
        "sns.boxplot(y=df_khonghutthuoc['bwt'])"
      ],
      "execution_count": 26,
      "outputs": [
        {
          "output_type": "execute_result",
          "data": {
            "text/plain": [
              "<matplotlib.axes._subplots.AxesSubplot at 0x7fe02f166dd0>"
            ]
          },
          "metadata": {},
          "execution_count": 26
        },
        {
          "output_type": "display_data",
          "data": {
            "image/png": "[encoded data removed]",
            "text/plain": [
              "<Figure size 432x432 with 1 Axes>"
            ]
          },
          "metadata": {
            "needs_background": "light"
          }
        }
      ]
    },
    {
      "cell_type": "markdown",
      "metadata": {
        "id": "JU-59YgqMvhZ"
      },
      "source": [
        "so sánh cân nặng của trẻ ở 2 bên"
      ]
    },
    {
      "cell_type": "code",
      "metadata": {
        "colab": {
          "base_uri": "https://localhost:8080/",
          "height": 386
        },
        "id": "jctcjXxXM1zp",
        "outputId": "27d0a93d-d626-4ac1-e3d2-a8a84d783ebf"
      },
      "source": [
        "sns.displot(df, x=\"bwt\", col=\"smoke\", kde=True,bins=12)"
      ],
      "execution_count": 27,
      "outputs": [
        {
          "output_type": "execute_result",
          "data": {
            "text/plain": [
              "<seaborn.axisgrid.FacetGrid at 0x7fe02f117790>"
            ]
          },
          "metadata": {},
          "execution_count": 27
        },
        {
          "output_type": "display_data",
          "data": {
            "image/png": "[encoded data removed]",
            "text/plain": [
              "<Figure size 1080x360 with 3 Axes>"
            ]
          },
          "metadata": {
            "needs_background": "light"
          }
        }
      ]
    },
    {
      "cell_type": "markdown",
      "metadata": {
        "id": "fRGMiW-1M6s9"
      },
      "source": [
        "cân nặng của trẻ có mẹ không hút thuốc cao hơn bà mẹ có hút thuốc"
      ]
    },
    {
      "cell_type": "markdown",
      "metadata": {
        "id": "IkAeCeWHNHKY"
      },
      "source": [
        "so sánh về boxplot\n"
      ]
    },
    {
      "cell_type": "code",
      "metadata": {
        "colab": {
          "base_uri": "https://localhost:8080/",
          "height": 297
        },
        "id": "67O1AZdlNJy_",
        "outputId": "db0931fa-3ede-4009-d4c2-13d0520b2053"
      },
      "source": [
        "sns.boxplot(x=\"smoke\", y=\"bwt\", data=df)"
      ],
      "execution_count": 28,
      "outputs": [
        {
          "output_type": "execute_result",
          "data": {
            "text/plain": [
              "<matplotlib.axes._subplots.AxesSubplot at 0x7fe02f117c10>"
            ]
          },
          "metadata": {},
          "execution_count": 28
        },
        {
          "output_type": "display_data",
          "data": {
            "image/png": "[encoded data removed]",
            "text/plain": [
              "<Figure size 432x288 with 1 Axes>"
            ]
          },
          "metadata": {
            "needs_background": "light"
          }
        }
      ]
    },
    {
      "cell_type": "markdown",
      "metadata": {
        "id": "mHs3W00WNVCL"
      },
      "source": [
        "so sánh về qqplot"
      ]
    },
    {
      "cell_type": "markdown",
      "metadata": {
        "id": "eNFDUTmfNeCV"
      },
      "source": [
        "bà mẹ có hút thuốc"
      ]
    },
    {
      "cell_type": "code",
      "metadata": {
        "colab": {
          "base_uri": "https://localhost:8080/",
          "height": 334
        },
        "id": "LhR285WqNY2B",
        "outputId": "39c4489c-1fea-4130-847e-59ea9c0cc64b"
      },
      "source": [
        "from scipy.stats.stats import pearsonr\n",
        "from scipy import stats\n",
        "from statsmodels.graphics.gofplots import qqplot\n",
        "\n",
        "qqplot_cohutthuoc = qqplot(df_cohutthuoc['bwt'],line='s')\n",
        "plt.show()"
      ],
      "execution_count": 29,
      "outputs": [
        {
          "output_type": "stream",
          "name": "stderr",
          "text": [
            "/usr/local/lib/python3.7/dist-packages/statsmodels/tools/_testing.py:19: FutureWarning: pandas.util.testing is deprecated. Use the functions in the public API at pandas.testing instead.\n",
            "  import pandas.util.testing as tm\n"
          ]
        },
        {
          "output_type": "display_data",
          "data": {
            "image/png": "[encoded data removed]",
            "text/plain": [
              "<Figure size 432x288 with 1 Axes>"
            ]
          },
          "metadata": {
            "needs_background": "light"
          }
        }
      ]
    },
    {
      "cell_type": "markdown",
      "metadata": {
        "id": "7mSXejRRNhTI"
      },
      "source": [
        "bà mẹ không hút thuốc"
      ]
    },
    {
      "cell_type": "code",
      "metadata": {
        "colab": {
          "base_uri": "https://localhost:8080/",
          "height": 280
        },
        "id": "rj_If6KjNZrO",
        "outputId": "b4966c88-043e-485e-d0b1-2794d1d5f4c4"
      },
      "source": [
        "qqplot_khonghutthuoc = qqplot(df_khonghutthuoc['bwt'],line='s')\n",
        "plt.show()"
      ],
      "execution_count": 30,
      "outputs": [
        {
          "output_type": "display_data",
          "data": {
            "image/png": "[encoded data removed]",
            "text/plain": [
              "<Figure size 432x288 with 1 Axes>"
            ]
          },
          "metadata": {
            "needs_background": "light"
          }
        }
      ]
    },
    {
      "cell_type": "markdown",
      "metadata": {
        "id": "EN8qLQlqNo65"
      },
      "source": [
        "Dữ liệu phân bố gần giống nhau"
      ]
    }
  ]
}