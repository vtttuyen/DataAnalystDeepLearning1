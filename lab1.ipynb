{
  "nbformat": 4,
  "nbformat_minor": 0,
  "metadata": {
    "colab": {
      "name": "lab1.ipynb",
      "provenance": [],
      "authorship_tag": "ABX9TyNxhwFncPa1bWKNwyNHuXRS",
      "include_colab_link": true
    },
    "kernelspec": {
      "name": "python3",
      "display_name": "Python 3"
    },
    "language_info": {
      "name": "python"
    }
  },
  "cells": [
    {
      "cell_type": "markdown",
      "metadata": {
        "id": "view-in-github",
        "colab_type": "text"
      },
      "source": [
        "<a href=\"https://colab.research.google.com/github/vtttuyen/DataAnalystDeepLearning1/blob/main/lab1.ipynb\" target=\"_parent\"><img src=\"https://colab.research.google.com/assets/colab-badge.svg\" alt=\"Open In Colab\"/></a>"
      ]
    },
    {
      "cell_type": "markdown",
      "metadata": {
        "id": "XDlJPOVQq972"
      },
      "source": [
        "Example 1"
      ]
    },
    {
      "cell_type": "code",
      "metadata": {
        "id": "iJ7X86oyrO52",
        "colab": {
          "base_uri": "https://localhost:8080/"
        },
        "outputId": "2b386040-64ae-4de5-d8b5-f3140b76fc5b"
      },
      "source": [
        "import pandas as pd\n",
        "s = pd.Series([12,-4,7,9])\n",
        "print (s)"
      ],
      "execution_count": 3,
      "outputs": [
        {
          "output_type": "stream",
          "name": "stdout",
          "text": [
            "0    12\n",
            "1    -4\n",
            "2     7\n",
            "3     9\n",
            "dtype: int64\n"
          ]
        }
      ]
    },
    {
      "cell_type": "markdown",
      "metadata": {
        "id": "-BzzNnKzuKtU"
      },
      "source": [
        "example 2"
      ]
    },
    {
      "cell_type": "code",
      "metadata": {
        "colab": {
          "base_uri": "https://localhost:8080/"
        },
        "id": "eOAFVW_UuPhZ",
        "outputId": "78b3f238-df08-46dc-e7f1-7c13b62f0aa7"
      },
      "source": [
        "import pandas as pd\n",
        "s = pd.Series([12,-4,7,9], index=['a', 'b', 'c', 'd'])\n",
        "print (s)"
      ],
      "execution_count": 4,
      "outputs": [
        {
          "output_type": "stream",
          "name": "stdout",
          "text": [
            "a    12\n",
            "b    -4\n",
            "c     7\n",
            "d     9\n",
            "dtype: int64\n"
          ]
        }
      ]
    },
    {
      "cell_type": "code",
      "metadata": {
        "colab": {
          "base_uri": "https://localhost:8080/"
        },
        "id": "E20S6MySyeUq",
        "outputId": "1802b72c-ab5b-4445-d9da-ac9b1a230256"
      },
      "source": [
        "s.values"
      ],
      "execution_count": 5,
      "outputs": [
        {
          "output_type": "execute_result",
          "data": {
            "text/plain": [
              "array([12, -4,  7,  9])"
            ]
          },
          "metadata": {},
          "execution_count": 5
        }
      ]
    },
    {
      "cell_type": "code",
      "metadata": {
        "colab": {
          "base_uri": "https://localhost:8080/"
        },
        "id": "kymfN8afyjy1",
        "outputId": "73c29ef0-a361-4029-947c-4e2924c49edd"
      },
      "source": [
        "s.index\n"
      ],
      "execution_count": 6,
      "outputs": [
        {
          "output_type": "execute_result",
          "data": {
            "text/plain": [
              "Index(['a', 'b', 'c', 'd'], dtype='object')"
            ]
          },
          "metadata": {},
          "execution_count": 6
        }
      ]
    },
    {
      "cell_type": "markdown",
      "metadata": {
        "id": "X42NkgYMyxaP"
      },
      "source": [
        "example 3"
      ]
    },
    {
      "cell_type": "code",
      "metadata": {
        "colab": {
          "base_uri": "https://localhost:8080/",
          "height": 204
        },
        "id": "mp-0xgu7y1tK",
        "outputId": "359f754f-b54d-4d1f-8ab9-22fcf767e3b7"
      },
      "source": [
        "data ={'color' : ['blue', 'green', 'yellow', 'red', 'white'],\n",
        "\t'object': ['ball', 'pen', 'pencil', 'paper', 'mug'],\n",
        "\t'price': [1.2, 1.0, 0.6,0.9,1.7]}\n",
        "frame = pd.DataFrame(data)\n",
        "frame"
      ],
      "execution_count": 7,
      "outputs": [
        {
          "output_type": "execute_result",
          "data": {
            "text/html": [
              "<div>\n",
              "<style scoped>\n",
              "    .dataframe tbody tr th:only-of-type {\n",
              "        vertical-align: middle;\n",
              "    }\n",
              "\n",
              "    .dataframe tbody tr th {\n",
              "        vertical-align: top;\n",
              "    }\n",
              "\n",
              "    .dataframe thead th {\n",
              "        text-align: right;\n",
              "    }\n",
              "</style>\n",
              "<table border=\"1\" class=\"dataframe\">\n",
              "  <thead>\n",
              "    <tr style=\"text-align: right;\">\n",
              "      <th></th>\n",
              "      <th>color</th>\n",
              "      <th>object</th>\n",
              "      <th>price</th>\n",
              "    </tr>\n",
              "  </thead>\n",
              "  <tbody>\n",
              "    <tr>\n",
              "      <th>0</th>\n",
              "      <td>blue</td>\n",
              "      <td>ball</td>\n",
              "      <td>1.2</td>\n",
              "    </tr>\n",
              "    <tr>\n",
              "      <th>1</th>\n",
              "      <td>green</td>\n",
              "      <td>pen</td>\n",
              "      <td>1.0</td>\n",
              "    </tr>\n",
              "    <tr>\n",
              "      <th>2</th>\n",
              "      <td>yellow</td>\n",
              "      <td>pencil</td>\n",
              "      <td>0.6</td>\n",
              "    </tr>\n",
              "    <tr>\n",
              "      <th>3</th>\n",
              "      <td>red</td>\n",
              "      <td>paper</td>\n",
              "      <td>0.9</td>\n",
              "    </tr>\n",
              "    <tr>\n",
              "      <th>4</th>\n",
              "      <td>white</td>\n",
              "      <td>mug</td>\n",
              "      <td>1.7</td>\n",
              "    </tr>\n",
              "  </tbody>\n",
              "</table>\n",
              "</div>"
            ],
            "text/plain": [
              "    color  object  price\n",
              "0    blue    ball    1.2\n",
              "1   green     pen    1.0\n",
              "2  yellow  pencil    0.6\n",
              "3     red   paper    0.9\n",
              "4   white     mug    1.7"
            ]
          },
          "metadata": {},
          "execution_count": 7
        }
      ]
    },
    {
      "cell_type": "markdown",
      "metadata": {
        "id": "4PRXxU6fzESi"
      },
      "source": [
        "example 4"
      ]
    },
    {
      "cell_type": "code",
      "metadata": {
        "colab": {
          "base_uri": "https://localhost:8080/",
          "height": 204
        },
        "id": "w48vTDm7zGa1",
        "outputId": "4e03e312-7a9e-49f9-af3e-f1584eea62f5"
      },
      "source": [
        "frame2 = pd.DataFrame (data, columns = ['object', 'price'])\n",
        "frame2\n"
      ],
      "execution_count": 8,
      "outputs": [
        {
          "output_type": "execute_result",
          "data": {
            "text/html": [
              "<div>\n",
              "<style scoped>\n",
              "    .dataframe tbody tr th:only-of-type {\n",
              "        vertical-align: middle;\n",
              "    }\n",
              "\n",
              "    .dataframe tbody tr th {\n",
              "        vertical-align: top;\n",
              "    }\n",
              "\n",
              "    .dataframe thead th {\n",
              "        text-align: right;\n",
              "    }\n",
              "</style>\n",
              "<table border=\"1\" class=\"dataframe\">\n",
              "  <thead>\n",
              "    <tr style=\"text-align: right;\">\n",
              "      <th></th>\n",
              "      <th>object</th>\n",
              "      <th>price</th>\n",
              "    </tr>\n",
              "  </thead>\n",
              "  <tbody>\n",
              "    <tr>\n",
              "      <th>0</th>\n",
              "      <td>ball</td>\n",
              "      <td>1.2</td>\n",
              "    </tr>\n",
              "    <tr>\n",
              "      <th>1</th>\n",
              "      <td>pen</td>\n",
              "      <td>1.0</td>\n",
              "    </tr>\n",
              "    <tr>\n",
              "      <th>2</th>\n",
              "      <td>pencil</td>\n",
              "      <td>0.6</td>\n",
              "    </tr>\n",
              "    <tr>\n",
              "      <th>3</th>\n",
              "      <td>paper</td>\n",
              "      <td>0.9</td>\n",
              "    </tr>\n",
              "    <tr>\n",
              "      <th>4</th>\n",
              "      <td>mug</td>\n",
              "      <td>1.7</td>\n",
              "    </tr>\n",
              "  </tbody>\n",
              "</table>\n",
              "</div>"
            ],
            "text/plain": [
              "   object  price\n",
              "0    ball    1.2\n",
              "1     pen    1.0\n",
              "2  pencil    0.6\n",
              "3   paper    0.9\n",
              "4     mug    1.7"
            ]
          },
          "metadata": {},
          "execution_count": 8
        }
      ]
    },
    {
      "cell_type": "markdown",
      "metadata": {
        "id": "qgXmD6ozzW0i"
      },
      "source": [
        "example 5"
      ]
    },
    {
      "cell_type": "code",
      "metadata": {
        "colab": {
          "base_uri": "https://localhost:8080/",
          "height": 204
        },
        "id": "cMtdn9okzZRr",
        "outputId": "3e4fc8df-9835-4d9f-dabc-ea977d9b43a5"
      },
      "source": [
        "frame2['type'] ='normal'\n",
        "frame2"
      ],
      "execution_count": 9,
      "outputs": [
        {
          "output_type": "execute_result",
          "data": {
            "text/html": [
              "<div>\n",
              "<style scoped>\n",
              "    .dataframe tbody tr th:only-of-type {\n",
              "        vertical-align: middle;\n",
              "    }\n",
              "\n",
              "    .dataframe tbody tr th {\n",
              "        vertical-align: top;\n",
              "    }\n",
              "\n",
              "    .dataframe thead th {\n",
              "        text-align: right;\n",
              "    }\n",
              "</style>\n",
              "<table border=\"1\" class=\"dataframe\">\n",
              "  <thead>\n",
              "    <tr style=\"text-align: right;\">\n",
              "      <th></th>\n",
              "      <th>object</th>\n",
              "      <th>price</th>\n",
              "      <th>type</th>\n",
              "    </tr>\n",
              "  </thead>\n",
              "  <tbody>\n",
              "    <tr>\n",
              "      <th>0</th>\n",
              "      <td>ball</td>\n",
              "      <td>1.2</td>\n",
              "      <td>normal</td>\n",
              "    </tr>\n",
              "    <tr>\n",
              "      <th>1</th>\n",
              "      <td>pen</td>\n",
              "      <td>1.0</td>\n",
              "      <td>normal</td>\n",
              "    </tr>\n",
              "    <tr>\n",
              "      <th>2</th>\n",
              "      <td>pencil</td>\n",
              "      <td>0.6</td>\n",
              "      <td>normal</td>\n",
              "    </tr>\n",
              "    <tr>\n",
              "      <th>3</th>\n",
              "      <td>paper</td>\n",
              "      <td>0.9</td>\n",
              "      <td>normal</td>\n",
              "    </tr>\n",
              "    <tr>\n",
              "      <th>4</th>\n",
              "      <td>mug</td>\n",
              "      <td>1.7</td>\n",
              "      <td>normal</td>\n",
              "    </tr>\n",
              "  </tbody>\n",
              "</table>\n",
              "</div>"
            ],
            "text/plain": [
              "   object  price    type\n",
              "0    ball    1.2  normal\n",
              "1     pen    1.0  normal\n",
              "2  pencil    0.6  normal\n",
              "3   paper    0.9  normal\n",
              "4     mug    1.7  normal"
            ]
          },
          "metadata": {},
          "execution_count": 9
        }
      ]
    },
    {
      "cell_type": "markdown",
      "metadata": {
        "id": "nCnuMr3pzqxs"
      },
      "source": [
        "example 6"
      ]
    },
    {
      "cell_type": "code",
      "metadata": {
        "colab": {
          "base_uri": "https://localhost:8080/",
          "height": 204
        },
        "id": "VWWOE7LM0DSY",
        "outputId": "2cda9199-9faf-4082-fb81-a3f6701a07dd"
      },
      "source": [
        "for i in range(len(frame2)):\n",
        "  if frame2['price'][i] > 1.0:\n",
        "    frame2.loc[i, 'type'] = 'good'\n",
        "frame2"
      ],
      "execution_count": 10,
      "outputs": [
        {
          "output_type": "execute_result",
          "data": {
            "text/html": [
              "<div>\n",
              "<style scoped>\n",
              "    .dataframe tbody tr th:only-of-type {\n",
              "        vertical-align: middle;\n",
              "    }\n",
              "\n",
              "    .dataframe tbody tr th {\n",
              "        vertical-align: top;\n",
              "    }\n",
              "\n",
              "    .dataframe thead th {\n",
              "        text-align: right;\n",
              "    }\n",
              "</style>\n",
              "<table border=\"1\" class=\"dataframe\">\n",
              "  <thead>\n",
              "    <tr style=\"text-align: right;\">\n",
              "      <th></th>\n",
              "      <th>object</th>\n",
              "      <th>price</th>\n",
              "      <th>type</th>\n",
              "    </tr>\n",
              "  </thead>\n",
              "  <tbody>\n",
              "    <tr>\n",
              "      <th>0</th>\n",
              "      <td>ball</td>\n",
              "      <td>1.2</td>\n",
              "      <td>good</td>\n",
              "    </tr>\n",
              "    <tr>\n",
              "      <th>1</th>\n",
              "      <td>pen</td>\n",
              "      <td>1.0</td>\n",
              "      <td>normal</td>\n",
              "    </tr>\n",
              "    <tr>\n",
              "      <th>2</th>\n",
              "      <td>pencil</td>\n",
              "      <td>0.6</td>\n",
              "      <td>normal</td>\n",
              "    </tr>\n",
              "    <tr>\n",
              "      <th>3</th>\n",
              "      <td>paper</td>\n",
              "      <td>0.9</td>\n",
              "      <td>normal</td>\n",
              "    </tr>\n",
              "    <tr>\n",
              "      <th>4</th>\n",
              "      <td>mug</td>\n",
              "      <td>1.7</td>\n",
              "      <td>good</td>\n",
              "    </tr>\n",
              "  </tbody>\n",
              "</table>\n",
              "</div>"
            ],
            "text/plain": [
              "   object  price    type\n",
              "0    ball    1.2    good\n",
              "1     pen    1.0  normal\n",
              "2  pencil    0.6  normal\n",
              "3   paper    0.9  normal\n",
              "4     mug    1.7    good"
            ]
          },
          "metadata": {},
          "execution_count": 10
        }
      ]
    },
    {
      "cell_type": "markdown",
      "metadata": {
        "id": "kbOR7tZD0QTU"
      },
      "source": [
        "example 7"
      ]
    },
    {
      "cell_type": "code",
      "metadata": {
        "colab": {
          "base_uri": "https://localhost:8080/",
          "height": 204
        },
        "id": "vzn3JwJm0Uox",
        "outputId": "0aaa89c8-f6a7-4110-cc38-11d650bdae83"
      },
      "source": [
        "frame2['discount'] = frame2['price']*0.02\n",
        "frame2"
      ],
      "execution_count": 11,
      "outputs": [
        {
          "output_type": "execute_result",
          "data": {
            "text/html": [
              "<div>\n",
              "<style scoped>\n",
              "    .dataframe tbody tr th:only-of-type {\n",
              "        vertical-align: middle;\n",
              "    }\n",
              "\n",
              "    .dataframe tbody tr th {\n",
              "        vertical-align: top;\n",
              "    }\n",
              "\n",
              "    .dataframe thead th {\n",
              "        text-align: right;\n",
              "    }\n",
              "</style>\n",
              "<table border=\"1\" class=\"dataframe\">\n",
              "  <thead>\n",
              "    <tr style=\"text-align: right;\">\n",
              "      <th></th>\n",
              "      <th>object</th>\n",
              "      <th>price</th>\n",
              "      <th>type</th>\n",
              "      <th>discount</th>\n",
              "    </tr>\n",
              "  </thead>\n",
              "  <tbody>\n",
              "    <tr>\n",
              "      <th>0</th>\n",
              "      <td>ball</td>\n",
              "      <td>1.2</td>\n",
              "      <td>good</td>\n",
              "      <td>0.024</td>\n",
              "    </tr>\n",
              "    <tr>\n",
              "      <th>1</th>\n",
              "      <td>pen</td>\n",
              "      <td>1.0</td>\n",
              "      <td>normal</td>\n",
              "      <td>0.020</td>\n",
              "    </tr>\n",
              "    <tr>\n",
              "      <th>2</th>\n",
              "      <td>pencil</td>\n",
              "      <td>0.6</td>\n",
              "      <td>normal</td>\n",
              "      <td>0.012</td>\n",
              "    </tr>\n",
              "    <tr>\n",
              "      <th>3</th>\n",
              "      <td>paper</td>\n",
              "      <td>0.9</td>\n",
              "      <td>normal</td>\n",
              "      <td>0.018</td>\n",
              "    </tr>\n",
              "    <tr>\n",
              "      <th>4</th>\n",
              "      <td>mug</td>\n",
              "      <td>1.7</td>\n",
              "      <td>good</td>\n",
              "      <td>0.034</td>\n",
              "    </tr>\n",
              "  </tbody>\n",
              "</table>\n",
              "</div>"
            ],
            "text/plain": [
              "   object  price    type  discount\n",
              "0    ball    1.2    good     0.024\n",
              "1     pen    1.0  normal     0.020\n",
              "2  pencil    0.6  normal     0.012\n",
              "3   paper    0.9  normal     0.018\n",
              "4     mug    1.7    good     0.034"
            ]
          },
          "metadata": {},
          "execution_count": 11
        }
      ]
    },
    {
      "cell_type": "markdown",
      "metadata": {
        "id": "ULO72Mb-0i8Y"
      },
      "source": [
        "example 8"
      ]
    },
    {
      "cell_type": "code",
      "metadata": {
        "colab": {
          "base_uri": "https://localhost:8080/",
          "height": 204
        },
        "id": "gxMEJub60lQJ",
        "outputId": "d8dc9cea-1ed8-42e2-9e8f-0d890dd4c014"
      },
      "source": [
        "frame2['price_afterdiscount'] = frame2['price'] - frame2['discount']\n",
        "frame2"
      ],
      "execution_count": 12,
      "outputs": [
        {
          "output_type": "execute_result",
          "data": {
            "text/html": [
              "<div>\n",
              "<style scoped>\n",
              "    .dataframe tbody tr th:only-of-type {\n",
              "        vertical-align: middle;\n",
              "    }\n",
              "\n",
              "    .dataframe tbody tr th {\n",
              "        vertical-align: top;\n",
              "    }\n",
              "\n",
              "    .dataframe thead th {\n",
              "        text-align: right;\n",
              "    }\n",
              "</style>\n",
              "<table border=\"1\" class=\"dataframe\">\n",
              "  <thead>\n",
              "    <tr style=\"text-align: right;\">\n",
              "      <th></th>\n",
              "      <th>object</th>\n",
              "      <th>price</th>\n",
              "      <th>type</th>\n",
              "      <th>discount</th>\n",
              "      <th>price_afterdiscount</th>\n",
              "    </tr>\n",
              "  </thead>\n",
              "  <tbody>\n",
              "    <tr>\n",
              "      <th>0</th>\n",
              "      <td>ball</td>\n",
              "      <td>1.2</td>\n",
              "      <td>good</td>\n",
              "      <td>0.024</td>\n",
              "      <td>1.176</td>\n",
              "    </tr>\n",
              "    <tr>\n",
              "      <th>1</th>\n",
              "      <td>pen</td>\n",
              "      <td>1.0</td>\n",
              "      <td>normal</td>\n",
              "      <td>0.020</td>\n",
              "      <td>0.980</td>\n",
              "    </tr>\n",
              "    <tr>\n",
              "      <th>2</th>\n",
              "      <td>pencil</td>\n",
              "      <td>0.6</td>\n",
              "      <td>normal</td>\n",
              "      <td>0.012</td>\n",
              "      <td>0.588</td>\n",
              "    </tr>\n",
              "    <tr>\n",
              "      <th>3</th>\n",
              "      <td>paper</td>\n",
              "      <td>0.9</td>\n",
              "      <td>normal</td>\n",
              "      <td>0.018</td>\n",
              "      <td>0.882</td>\n",
              "    </tr>\n",
              "    <tr>\n",
              "      <th>4</th>\n",
              "      <td>mug</td>\n",
              "      <td>1.7</td>\n",
              "      <td>good</td>\n",
              "      <td>0.034</td>\n",
              "      <td>1.666</td>\n",
              "    </tr>\n",
              "  </tbody>\n",
              "</table>\n",
              "</div>"
            ],
            "text/plain": [
              "   object  price    type  discount  price_afterdiscount\n",
              "0    ball    1.2    good     0.024                1.176\n",
              "1     pen    1.0  normal     0.020                0.980\n",
              "2  pencil    0.6  normal     0.012                0.588\n",
              "3   paper    0.9  normal     0.018                0.882\n",
              "4     mug    1.7    good     0.034                1.666"
            ]
          },
          "metadata": {},
          "execution_count": 12
        }
      ]
    },
    {
      "cell_type": "markdown",
      "metadata": {
        "id": "qrgRid0y0tNT"
      },
      "source": [
        "example 9"
      ]
    },
    {
      "cell_type": "code",
      "metadata": {
        "colab": {
          "base_uri": "https://localhost:8080/"
        },
        "id": "7yFVQWdl0vAV",
        "outputId": "5269e69c-e90a-4c4f-b44e-b1213c5f399d"
      },
      "source": [
        "import pandas as pd\n",
        "dulieuxettuyen = pd.read_csv(\"https://raw.githubusercontent.com/huynhhoc/DataAnalystDeepLearning/main/Data/dulieuxettuyendaihoc.csv\")\n",
        "print (dulieuxettuyen.head(10))"
      ],
      "execution_count": 13,
      "outputs": [
        {
          "output_type": "stream",
          "name": "stdout",
          "text": [
            "   STT   T1   L1   H1   S1   V1   X1  ...  GT  DT   KV   DH1   DH2   DH3  KT\n",
            "0    1  7.2  7.3  6.3  7.3  7.0  7.9  ...   F NaN  2NT  3.25  3.25  4.50  A1\n",
            "1    2  5.4  3.9  3.9  4.0  5.4  5.4  ...   M NaN    1  6.00  4.00  3.50   C\n",
            "2    3  5.6  6.8  7.2  7.5  4.3  7.4  ...   M NaN    1  5.00  6.75  4.00   C\n",
            "3    4  6.6  6.4  5.3  6.9  5.4  7.3  ...   M NaN    1  4.25  4.25  5.25  D1\n",
            "4    5  6.0  5.0  6.0  7.3  6.5  7.7  ...   M NaN  2NT  4.25  4.50  5.00   A\n",
            "5    6  9.3  7.6  7.9  8.6  7.0  7.3  ...   M NaN    1  1.50  4.00  6.00  D1\n",
            "6    7  2.8  3.9  5.5  6.9  5.0  7.3  ...   F NaN    2  6.50  6.75  5.25   C\n",
            "7    8  8.3  6.0  7.6  5.1  7.5  4.7  ...   F NaN    2  3.75  4.50  4.25  D1\n",
            "8    9  6.5  6.3  7.6  6.0  5.5  7.1  ...   F NaN    1  3.50  3.50  6.75  D1\n",
            "9   10  7.3  5.9  4.7  7.1  6.7  7.9  ...   F NaN    1  4.00  4.75  5.50  D1\n",
            "\n",
            "[10 rows x 56 columns]\n"
          ]
        }
      ]
    },
    {
      "cell_type": "code",
      "metadata": {
        "colab": {
          "base_uri": "https://localhost:8080/"
        },
        "id": "kikcFtLp1Wd8",
        "outputId": "1fddd032-41e7-42b1-de7e-abde96cee4fd"
      },
      "source": [
        "import pandas as pd\n",
        "heartDisease = pd.read_csv(\"https://raw.githubusercontent.com/huynhhoc/DataAnalystDeepLearning/main/Data/dulieuxettuyendaihoc.csv\", header = None)\n",
        "print (heartDisease)"
      ],
      "execution_count": 14,
      "outputs": [
        {
          "output_type": "stream",
          "name": "stdout",
          "text": [
            "      0    1    2    3    4    5    6   ...  49   50   51    52    53    54  55\n",
            "0    STT   T1   L1   H1   S1   V1   X1  ...  GT   DT   KV   DH1   DH2   DH3  KT\n",
            "1      1  7.2  7.3  6.3  7.3    7  7.9  ...   F  NaN  2NT  3.25  3.25   4.5  A1\n",
            "2      2  5.4  3.9  3.9    4  5.4  5.4  ...   M  NaN    1     6     4   3.5   C\n",
            "3      3  5.6  6.8  7.2  7.5  4.3  7.4  ...   M  NaN    1     5  6.75     4   C\n",
            "4      4  6.6  6.4  5.3  6.9  5.4  7.3  ...   M  NaN    1  4.25  4.25  5.25  D1\n",
            "..   ...  ...  ...  ...  ...  ...  ...  ...  ..  ...  ...   ...   ...   ...  ..\n",
            "96    96  8.6  6.9  7.4  8.8  7.6  5.8  ...   F  NaN    1  5.25   1.5  6.25   C\n",
            "97    97  3.7  5.4    6  5.1  5.5  3.9  ...   F  NaN    1  5.25  3.75  4.75   C\n",
            "98    98  8.8  5.5  7.4  7.7  6.2  7.3  ...   M  NaN  2NT     7     8     4   C\n",
            "99    99  2.7  1.8  3.4  5.3  4.5  7.9  ...   M  NaN    1     5   3.5   5.5   C\n",
            "100  100  4.1  5.2  4.9  5.3  5.5  5.4  ...   M  NaN  2NT  5.25   2.5  4.25   C\n",
            "\n",
            "[101 rows x 56 columns]\n"
          ]
        }
      ]
    },
    {
      "cell_type": "markdown",
      "metadata": {
        "id": "nWK9gCj_1pNy"
      },
      "source": [
        "example 10"
      ]
    },
    {
      "cell_type": "code",
      "metadata": {
        "colab": {
          "base_uri": "https://localhost:8080/"
        },
        "id": "wF5hNAAs1ryK",
        "outputId": "5e6945ff-a70c-4730-ce62-1ee626a40708"
      },
      "source": [
        "import pandas as pd\n",
        "import numpy as np\n",
        "frame = pd.DataFrame(np.arange(16).reshape(4,4),\n",
        "\t\tindex =['white', 'black', 'red','blue'],\n",
        "\t\tcolumns =['up', 'down', 'right', 'left'])\n",
        "frame.to_json('frame.json')\n",
        "#Read json-formatted data\n",
        "jsonFrame = pd.read_json('frame.json')\n",
        "print(jsonFrame)"
      ],
      "execution_count": 15,
      "outputs": [
        {
          "output_type": "stream",
          "name": "stdout",
          "text": [
            "       up  down  right  left\n",
            "white   0     1      2     3\n",
            "black   4     5      6     7\n",
            "red     8     9     10    11\n",
            "blue   12    13     14    15\n"
          ]
        }
      ]
    },
    {
      "cell_type": "markdown",
      "metadata": {
        "id": "O6qT8hiM1w9R"
      },
      "source": [
        "example 11"
      ]
    },
    {
      "cell_type": "code",
      "metadata": {
        "colab": {
          "base_uri": "https://localhost:8080/"
        },
        "id": "Zjwg63mX1zLx",
        "outputId": "88a6c2eb-f3dc-45d3-ab3c-a57fe27df226"
      },
      "source": [
        "import pandas as pd\n",
        "example11 = pd.read_table('https://raw.githubusercontent.com/huynhhoc/DataAnalystDeepLearning/main/Data/example11.txt', sep='\\D+', header=None, engine='python')\n",
        "print (example11)"
      ],
      "execution_count": 16,
      "outputs": [
        {
          "output_type": "stream",
          "name": "stdout",
          "text": [
            "   0    1    2\n",
            "0  0  123  122\n",
            "1  1  124  321\n",
            "2  2  125  333\n"
          ]
        }
      ]
    },
    {
      "cell_type": "markdown",
      "metadata": {
        "id": "5umSi4p92BEN"
      },
      "source": [
        "example 12"
      ]
    },
    {
      "cell_type": "code",
      "metadata": {
        "colab": {
          "base_uri": "https://localhost:8080/"
        },
        "id": "O3xcc-5l2DWq",
        "outputId": "3d9449d5-ec20-498c-c31b-73d6253bd049"
      },
      "source": [
        "import pandas as pd\n",
        "example12 = pd.read_table('https://raw.githubusercontent.com/huynhhoc/DataAnalystDeepLearning/main/Data/example12.txt', sep=',', skiprows=[0,1,3,6])\n",
        "print (example12)"
      ],
      "execution_count": 17,
      "outputs": [
        {
          "output_type": "stream",
          "name": "stdout",
          "text": [
            "   white  red  blue  green animal\n",
            "0      1    5     2      3    cat\n",
            "1      2    7     8      5    dog\n",
            "2      3    3     6      7  horse\n",
            "3      2    2     8      3   duck\n",
            "4      4    4     2      1  mouse\n"
          ]
        }
      ]
    },
    {
      "cell_type": "markdown",
      "metadata": {
        "id": "Fa95vv692FJV"
      },
      "source": [
        "example 13"
      ]
    },
    {
      "cell_type": "code",
      "metadata": {
        "colab": {
          "base_uri": "https://localhost:8080/"
        },
        "id": "sqXjczV22HuO",
        "outputId": "ee390f59-3b99-47de-8930-372920f2d56c"
      },
      "source": [
        "import pandas as pd\n",
        "example13 = pd.read_table('https://raw.githubusercontent.com/huynhhoc/DataAnalystDeepLearning/main/Data/example13.txt', skiprows=[2], nrows=3)\n",
        "print (example13)"
      ],
      "execution_count": 18,
      "outputs": [
        {
          "output_type": "stream",
          "name": "stdout",
          "text": [
            "  white,red,blue,green,animal\n",
            "0                 1,5,2,3,cat\n",
            "1               3,3,6,7,horse\n",
            "2                2,2,8,3,duck\n"
          ]
        }
      ]
    },
    {
      "cell_type": "markdown",
      "metadata": {
        "id": "HF1UfliI2Qgv"
      },
      "source": [
        "example 14"
      ]
    },
    {
      "cell_type": "code",
      "metadata": {
        "colab": {
          "base_uri": "https://localhost:8080/"
        },
        "id": "yUKde5lL2WDj",
        "outputId": "e4766fb7-77e4-463a-b686-c51dbe88d484"
      },
      "source": [
        "import pandas as pd\n",
        "import numpy as np\n",
        "frame = pd.DataFrame(np.arange(16).reshape(4,4),index = ['red', 'blue', 'yellow','white'],columns = ['ball', 'pen', 'pencil', 'paper'])\n",
        "print(frame)"
      ],
      "execution_count": 19,
      "outputs": [
        {
          "output_type": "stream",
          "name": "stdout",
          "text": [
            "        ball  pen  pencil  paper\n",
            "red        0    1       2      3\n",
            "blue       4    5       6      7\n",
            "yellow     8    9      10     11\n",
            "white     12   13      14     15\n"
          ]
        }
      ]
    },
    {
      "cell_type": "code",
      "metadata": {
        "colab": {
          "base_uri": "https://localhost:8080/"
        },
        "id": "VbUgZD282a1x",
        "outputId": "1825d1e6-2058-4162-8b68-74954f7a94b6"
      },
      "source": [
        "newframe = pd.DataFrame(frame, columns=['paper','pen'])\n",
        "print(newframe)"
      ],
      "execution_count": 20,
      "outputs": [
        {
          "output_type": "stream",
          "name": "stdout",
          "text": [
            "        paper  pen\n",
            "red         3    1\n",
            "blue        7    5\n",
            "yellow     11    9\n",
            "white      15   13\n"
          ]
        }
      ]
    },
    {
      "cell_type": "markdown",
      "metadata": {
        "id": "jqCB04qC5xfW"
      },
      "source": [
        "Example 14: Set NaN for value less than 11"
      ]
    },
    {
      "cell_type": "code",
      "metadata": {
        "colab": {
          "base_uri": "https://localhost:8080/"
        },
        "id": "yMuzSzfE54zb",
        "outputId": "b6ab650a-cc9b-4672-b2dc-5d05a784a17d"
      },
      "source": [
        "filteredFrame = frame[frame < 11]\n",
        "print(filteredFrame)"
      ],
      "execution_count": 22,
      "outputs": [
        {
          "output_type": "stream",
          "name": "stdout",
          "text": [
            "        ball  pen  pencil  paper\n",
            "red      0.0  1.0     2.0    3.0\n",
            "blue     4.0  5.0     6.0    7.0\n",
            "yellow   8.0  9.0    10.0    NaN\n",
            "white    NaN  NaN     NaN    NaN\n"
          ]
        }
      ]
    },
    {
      "cell_type": "markdown",
      "metadata": {
        "id": "3T7Dep7O6CXK"
      },
      "source": [
        "Example 15: Drop rows that contain any NaN value"
      ]
    },
    {
      "cell_type": "code",
      "metadata": {
        "colab": {
          "base_uri": "https://localhost:8080/"
        },
        "id": "xH7acPOC6Gts",
        "outputId": "2581dfc0-e277-4041-b0fb-5493dec367ca"
      },
      "source": [
        "dropAllNaNFrame = filteredFrame.dropna()\n",
        "print (dropAllNaNFrame)"
      ],
      "execution_count": 23,
      "outputs": [
        {
          "output_type": "stream",
          "name": "stdout",
          "text": [
            "      ball  pen  pencil  paper\n",
            "red    0.0  1.0     2.0    3.0\n",
            "blue   4.0  5.0     6.0    7.0\n"
          ]
        }
      ]
    },
    {
      "cell_type": "markdown",
      "metadata": {
        "id": "b9NBlrwA6Kxi"
      },
      "source": [
        "Example 16: Drop rows that all of them are NaN"
      ]
    },
    {
      "cell_type": "code",
      "metadata": {
        "colab": {
          "base_uri": "https://localhost:8080/"
        },
        "id": "WqQ9oQm56POe",
        "outputId": "1d3ac3b0-165b-46cb-8227-7837f65ab8e3"
      },
      "source": [
        "dropNaNAllFrame = filteredFrame.dropna(how='all')\n",
        "print(dropNaNAllFrame)"
      ],
      "execution_count": 24,
      "outputs": [
        {
          "output_type": "stream",
          "name": "stdout",
          "text": [
            "        ball  pen  pencil  paper\n",
            "red      0.0  1.0     2.0    3.0\n",
            "blue     4.0  5.0     6.0    7.0\n",
            "yellow   8.0  9.0    10.0    NaN\n"
          ]
        }
      ]
    },
    {
      "cell_type": "markdown",
      "metadata": {
        "id": "apT0RnVl6VHy"
      },
      "source": [
        "Example 17: Describe the missing data"
      ]
    },
    {
      "cell_type": "code",
      "metadata": {
        "colab": {
          "base_uri": "https://localhost:8080/"
        },
        "id": "lABEzs5v6Z_o",
        "outputId": "b1703f70-9604-4be5-9c89-2db8e4d0e956"
      },
      "source": [
        "filteredFrame.isnull().sum()"
      ],
      "execution_count": 25,
      "outputs": [
        {
          "output_type": "execute_result",
          "data": {
            "text/plain": [
              "ball      1\n",
              "pen       1\n",
              "pencil    1\n",
              "paper     2\n",
              "dtype: int64"
            ]
          },
          "metadata": {},
          "execution_count": 25
        }
      ]
    },
    {
      "cell_type": "markdown",
      "metadata": {
        "id": "qX7vzvjl6eta"
      },
      "source": [
        "Example 18: Set 0 for all NaN value"
      ]
    },
    {
      "cell_type": "code",
      "metadata": {
        "colab": {
          "base_uri": "https://localhost:8080/"
        },
        "id": "oPfMlScN6iFv",
        "outputId": "d2490b41-43a8-4e3c-b227-1cc908ccd605"
      },
      "source": [
        "print (filteredFrame)"
      ],
      "execution_count": 26,
      "outputs": [
        {
          "output_type": "stream",
          "name": "stdout",
          "text": [
            "        ball  pen  pencil  paper\n",
            "red      0.0  1.0     2.0    3.0\n",
            "blue     4.0  5.0     6.0    7.0\n",
            "yellow   8.0  9.0    10.0    NaN\n",
            "white    NaN  NaN     NaN    NaN\n"
          ]
        }
      ]
    },
    {
      "cell_type": "code",
      "metadata": {
        "colab": {
          "base_uri": "https://localhost:8080/"
        },
        "id": "TvExsWN36icH",
        "outputId": "7646a607-2001-4bee-a9c5-0cbabafb2d0b"
      },
      "source": [
        "fillnazeroFrame = filteredFrame.fillna(0)\n",
        "print(fillnazeroFrame)"
      ],
      "execution_count": 27,
      "outputs": [
        {
          "output_type": "stream",
          "name": "stdout",
          "text": [
            "        ball  pen  pencil  paper\n",
            "red      0.0  1.0     2.0    3.0\n",
            "blue     4.0  5.0     6.0    7.0\n",
            "yellow   8.0  9.0    10.0    0.0\n",
            "white    0.0  0.0     0.0    0.0\n"
          ]
        }
      ]
    },
    {
      "cell_type": "markdown",
      "metadata": {
        "id": "tgvxu___6vYd"
      },
      "source": [
        "Example 19: Write dataframe to csv file\n",
        "\n",
        "There are two steps to save dataframe as csv file in google drive:\n",
        "\n",
        "Step 1: mount google colab with google drive\n",
        "\n",
        "Step 2: use to_csv('/drive/My Drive' + '/DataAnalyst/filename.csv') function to export this file into DataAnalyst folder.\n",
        "\n",
        "Note:\n",
        "\n",
        "'/drive/My Drive': is constant.\n",
        "DataAnalyst folder is an example of folder in your google drive"
      ]
    },
    {
      "cell_type": "code",
      "metadata": {
        "colab": {
          "base_uri": "https://localhost:8080/"
        },
        "id": "9rQLS1Nw6w4a",
        "outputId": "265ab0e8-25d7-446f-9cb8-9277a75e213a"
      },
      "source": [
        "from google.colab import drive\n",
        "drive.mount('/drive')"
      ],
      "execution_count": 32,
      "outputs": [
        {
          "output_type": "stream",
          "name": "stdout",
          "text": [
            "Mounted at /drive\n"
          ]
        }
      ]
    }
  ]
}